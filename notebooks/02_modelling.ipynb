{
 "cells": [
  {
   "cell_type": "markdown",
   "metadata": {},
   "source": [
    "#### Preprocess the data for modelling"
   ]
  },
  {
   "cell_type": "code",
   "execution_count": 4,
   "metadata": {},
   "outputs": [],
   "source": [
    "import sys\n",
    "import os\n",
    "import pandas as pd\n",
    "import numpy as np\n",
    "from sklearn.model_selection import train_test_split\n",
    "\n",
    "# Add project root to sys.path\n",
    "sys.path.append(os.path.abspath(os.path.join(os.path.dirname(\"__file__\"), '..')))\n",
    "\n",
    "## Import the preprocessing function\n",
    "from src.data_preprocessing import preprocess_data"
   ]
  },
  {
   "cell_type": "code",
   "execution_count": 5,
   "metadata": {},
   "outputs": [],
   "source": [
    "# Step 1: Preprocess the training data\n",
    "train_data_path = '../data/training.csv'\n",
    "(X_train, y_train, X_test, y_test, feature_names, preprocessor) = preprocess_data(train_data_path, is_training=True)"
   ]
  },
  {
   "cell_type": "code",
   "execution_count": 6,
   "metadata": {},
   "outputs": [
    {
     "name": "stderr",
     "output_type": "stream",
     "text": [
      "/Users/dominic/Downloads/Nexford_University/Applied Machine Learning for Analytics/final_project/xente-fraud-detection-challenge/venv/lib/python3.10/site-packages/sklearn/preprocessing/_encoders.py:246: UserWarning: Found unknown categories in columns [3, 4, 5] during transform. These unknown categories will be encoded as all zeros\n",
      "  warnings.warn(\n"
     ]
    }
   ],
   "source": [
    "# Step 2: Load and preprocess the test data (for prediction) using the fitted preprocessor\n",
    "test_data = pd.read_csv('../data/test.csv')\n",
    "\n",
    "# Apply the same preprocessing steps as in preprocess_fraud_data, but use the fitted preprocessor\n",
    "test_data = test_data.drop(columns=['Value'])\n",
    "drop_cols = ['TransactionId', 'BatchId', 'AccountId', 'SubscriptionId', 'CustomerId']\n",
    "test_data = test_data.drop(columns=drop_cols)\n",
    "\n",
    "# Feature Engineering\n",
    "test_data['TransactionStartTime'] = pd.to_datetime(test_data['TransactionStartTime'])\n",
    "test_data['hour'] = test_data['TransactionStartTime'].dt.hour\n",
    "test_data['day_of_week'] = test_data['TransactionStartTime'].dt.dayofweek\n",
    "test_data['month'] = test_data['TransactionStartTime'].dt.month\n",
    "test_data = test_data.drop(columns=['TransactionStartTime'])\n",
    "\n",
    "test_data['log_amount'] = np.log1p(test_data['Amount'].abs() + 1)\n",
    "amount_threshold = test_data['Amount'].quantile(0.9)\n",
    "test_data['high_amount_flag'] = (test_data['Amount'] > amount_threshold).astype(int)\n",
    "test_data['high_fraud_provider'] = test_data['ProviderId'].isin(['ProviderId_1', 'ProviderId_3', 'ProviderId_5']).astype(int)\n",
    "test_data['high_fraud_channel'] = test_data['ChannelId'].isin(['ChannelId_1', 'ChannelId_3', 'ChannelId_2']).astype(int)\n",
    "high_fraud_categories = ['transport', 'utility_bill', 'financial_services']\n",
    "test_data['high_fraud_category'] = test_data['ProductCategory'].isin(high_fraud_categories).astype(int)\n",
    "\n",
    "# Transform test data using the fitted preprocessor\n",
    "X_test_processed = preprocessor.transform(test_data)"
   ]
  },
  {
   "cell_type": "code",
   "execution_count": 7,
   "metadata": {},
   "outputs": [
    {
     "name": "stdout",
     "output_type": "stream",
     "text": [
      "(152750, 50) (152750,)\n",
      "(19133, 50)\n"
     ]
    }
   ],
   "source": [
    "# Check X,y train\n",
    "print(X_train.shape, y_train.shape)\n",
    "print(X_test.shape)"
   ]
  },
  {
   "cell_type": "code",
   "execution_count": null,
   "metadata": {},
   "outputs": [],
   "source": []
  }
 ],
 "metadata": {
  "kernelspec": {
   "display_name": "Python (xente-env)",
   "language": "python",
   "name": "venv"
  },
  "language_info": {
   "codemirror_mode": {
    "name": "ipython",
    "version": 3
   },
   "file_extension": ".py",
   "mimetype": "text/x-python",
   "name": "python",
   "nbconvert_exporter": "python",
   "pygments_lexer": "ipython3",
   "version": "3.10.4"
  }
 },
 "nbformat": 4,
 "nbformat_minor": 4
}
