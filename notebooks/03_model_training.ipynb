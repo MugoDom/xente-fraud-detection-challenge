{
 "cells": [
  {
   "cell_type": "markdown",
   "metadata": {},
   "source": [
    "### Model training"
   ]
  },
  {
   "cell_type": "code",
   "execution_count": 5,
   "metadata": {},
   "outputs": [],
   "source": [
    "# Import the preprocessing pipeline and model training function\n",
    "import pandas as pd\n",
    "import joblib\n",
    "import os\n",
    "import sys\n",
    "\n",
    "# Add project root to sys.path\n",
    "sys.path.append(os.path.abspath(os.path.join(os.path.dirname(\"__file__\"), '..')))\n",
    "\n",
    "## Import the preprocessing function\n",
    "from src.data_preprocessing import preprocess_data\n",
    "from src.model_training import train_model"
   ]
  },
  {
   "cell_type": "code",
   "execution_count": 6,
   "metadata": {},
   "outputs": [
    {
     "ename": "NameError",
     "evalue": "name 'preprocess_fraud_data' is not defined",
     "output_type": "error",
     "traceback": [
      "\u001b[0;31m---------------------------------------------------------------------------\u001b[0m",
      "\u001b[0;31mNameError\u001b[0m                                 Traceback (most recent call last)",
      "Cell \u001b[0;32mIn[6], line 3\u001b[0m\n\u001b[1;32m      1\u001b[0m \u001b[38;5;66;03m# Step 1: Preprocess the training data\u001b[39;00m\n\u001b[1;32m      2\u001b[0m train_data_path \u001b[38;5;241m=\u001b[39m \u001b[38;5;124m'\u001b[39m\u001b[38;5;124m../data/training.csv\u001b[39m\u001b[38;5;124m'\u001b[39m\n\u001b[0;32m----> 3\u001b[0m (X_train, y_train, X_val, y_val, feature_names, preprocessor) \u001b[38;5;241m=\u001b[39m \u001b[43mpreprocess_fraud_data\u001b[49m(train_data_path, is_training\u001b[38;5;241m=\u001b[39m\u001b[38;5;28;01mTrue\u001b[39;00m)\n",
      "\u001b[0;31mNameError\u001b[0m: name 'preprocess_fraud_data' is not defined"
     ]
    }
   ],
   "source": [
    "# Step 1: Preprocess the training data\n",
    "train_data_path = '../data/training.csv'\n",
    "(X_train, y_train, X_val, y_val, feature_names, preprocessor) = preprocess_data(train_data_path, is_training=True)"
   ]
  },
  {
   "cell_type": "code",
   "execution_count": null,
   "metadata": {},
   "outputs": [],
   "source": [
    "# Step 2: Compute the amount threshold on the training data\n",
    "train_data = pd.read_csv(train_data_path)\n",
    "amount_threshold = train_data['Amount'].quantile(0.9)"
   ]
  },
  {
   "cell_type": "code",
   "execution_count": null,
   "metadata": {},
   "outputs": [],
   "source": [
    "# Step 3: Train the model\n",
    "model = train_model(X_train, y_train, model_path='random_forest_model.joblib')"
   ]
  },
  {
   "cell_type": "code",
   "execution_count": null,
   "metadata": {},
   "outputs": [],
   "source": [
    "# Step 4: Save the amount_threshold, preprocessor, and feature_names for use in evaluation\n",
    "joblib.dump(amount_threshold, 'amount_threshold.joblib')\n",
    "joblib.dump(preprocessor, 'preprocessor.joblib')\n",
    "joblib.dump(feature_names, 'feature_names.joblib')\n",
    "\n",
    "print(\"Training completed. Saved amount_threshold, preprocessor, and feature_names for evaluation.\")"
   ]
  }
 ],
 "metadata": {
  "kernelspec": {
   "display_name": "Python (xente-env)",
   "language": "python",
   "name": "venv"
  },
  "language_info": {
   "codemirror_mode": {
    "name": "ipython",
    "version": 3
   },
   "file_extension": ".py",
   "mimetype": "text/x-python",
   "name": "python",
   "nbconvert_exporter": "python",
   "pygments_lexer": "ipython3",
   "version": "3.10.4"
  }
 },
 "nbformat": 4,
 "nbformat_minor": 4
}
